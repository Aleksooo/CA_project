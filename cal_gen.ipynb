{
 "cells": [
  {
   "cell_type": "code",
   "execution_count": 1,
   "metadata": {},
   "outputs": [],
   "source": [
    "import numpy as np\n",
    "from src.utils_py.gro.Structure import Structure\n",
    "from src.utils_py.io.gro import write_gro, read_gro\n",
    "from collections import defaultdict"
   ]
  },
  {
   "cell_type": "markdown",
   "metadata": {},
   "source": [
    "---"
   ]
  },
  {
   "cell_type": "markdown",
   "metadata": {},
   "source": [
    "# Файл нужен для генерации подложки и itp"
   ]
  },
  {
   "cell_type": "code",
   "execution_count": 42,
   "metadata": {},
   "outputs": [],
   "source": [
    "# file = 'cal_substrate_wide.gro'\n",
    "# file = 'cal_slit.gro'\n",
    "# file = 'cal_10x6x2.gro'\n",
    "# file = 'cal_5x12x2.gro'\n",
    "# file = 'CaCO3_104_substrate.gro'\n",
    "# file = 'CaCO3_pore.gro'\n",
    "# file = 'cal_pore'\n",
    "# file = 'cal_substrate.gro'\n",
    "# file = 'musc_substr_double.gro'\n",
    "# file = 'chexd.gro'\n",
    "file = 'ice.gro'"
   ]
  },
  {
   "cell_type": "code",
   "execution_count": 43,
   "metadata": {},
   "outputs": [],
   "source": [
    "# folder = 'cal_104'\n",
    "# folder = 'cal_104_handmade'\n",
    "# folder = 'muscovite'\n",
    "# folder = 'chexd'\n",
    "folder = 'ice'"
   ]
  },
  {
   "cell_type": "code",
   "execution_count": 44,
   "metadata": {},
   "outputs": [],
   "source": [
    "structure = read_gro(f'{folder}/{file}')"
   ]
  },
  {
   "cell_type": "code",
   "execution_count": 45,
   "metadata": {},
   "outputs": [],
   "source": [
    "# Создание словаря всех атомов\n",
    "names = defaultdict(int)\n",
    "for atom_label in structure.atoms:\n",
    "    names[atom_label.mol_name] += 1"
   ]
  },
  {
   "cell_type": "code",
   "execution_count": 40,
   "metadata": {},
   "outputs": [],
   "source": [
    "# Выравнивания порядка в файле подложки и запись в cal.gro\n",
    "new_structure = structure.copy()\n",
    "id = 1\n",
    "for key in names.keys():\n",
    "    for i, atom_label in np.ndenumerate(structure.atoms):\n",
    "        if atom_label.mol_name == key:\n",
    "            new_atom_label = atom_label.copy()\n",
    "            new_atom_label.id = id\n",
    "            new_structure.add_atom(new_atom_label, structure.atoms_xyz[i[0], :].copy(), id-1)\n",
    "            id += 1\n",
    "\n",
    "new_structure.box = new_structure.box[:3]\n",
    "\n",
    "with open(f'{folder}/musc.gro', 'w') as f:\n",
    "    # f.write(write_gro(new_structure.apply_pbc(mask=np.array([1, 1, 0]))))\n",
    "    f.write(write_gro(new_structure))"
   ]
  },
  {
   "cell_type": "code",
   "execution_count": 41,
   "metadata": {},
   "outputs": [],
   "source": [
    "# Создание itp для подложки\n",
    "with open(f'{folder}/icemol.itp', 'w') as f:\n",
    "    for key, val in names.items():\n",
    "        f.write(f'{key}\\t{val}\\n')"
   ]
  },
  {
   "cell_type": "code",
   "execution_count": null,
   "metadata": {},
   "outputs": [],
   "source": []
  }
 ],
 "metadata": {
  "kernelspec": {
   "display_name": ".venv",
   "language": "python",
   "name": "python3"
  },
  "language_info": {
   "codemirror_mode": {
    "name": "ipython",
    "version": 3
   },
   "file_extension": ".py",
   "mimetype": "text/x-python",
   "name": "python",
   "nbconvert_exporter": "python",
   "pygments_lexer": "ipython3",
   "version": "3.9.6"
  },
  "orig_nbformat": 4
 },
 "nbformat": 4,
 "nbformat_minor": 2
}
