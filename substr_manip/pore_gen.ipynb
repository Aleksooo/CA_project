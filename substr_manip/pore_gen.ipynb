{
 "cells": [
  {
   "cell_type": "code",
   "execution_count": 48,
   "metadata": {},
   "outputs": [],
   "source": [
    "import numpy as np\n",
    "from src.utils_py.gro.Structure import Structure\n",
    "from src.utils_py.io.gro import write_gro, read_gro"
   ]
  },
  {
   "cell_type": "markdown",
   "metadata": {},
   "source": [
    "---"
   ]
  },
  {
   "cell_type": "code",
   "execution_count": 49,
   "metadata": {},
   "outputs": [],
   "source": [
    "# substrate_top = read_gro(f'cal_104_handmade/CaCO3_104_substrate.gro')\n",
    "# substrate_bottom = read_gro(f'cal_104_handmade/CaCO3_104_substrate.gro')\n",
    "substrate_top = read_gro(f'cal_104/cal_substrate.gro')\n",
    "substrate_bottom = read_gro(f'cal_104/cal_substrate.gro')"
   ]
  },
  {
   "cell_type": "code",
   "execution_count": 50,
   "metadata": {},
   "outputs": [],
   "source": [
    "H = 9"
   ]
  },
  {
   "cell_type": "code",
   "execution_count": 51,
   "metadata": {},
   "outputs": [],
   "source": [
    "# Отзеркаливаю нижнюю подложку\n",
    "shift = substrate_bottom.box[2]\n",
    "\n",
    "for i in range(substrate_bottom.atoms.shape[0]):\n",
    "    substrate_bottom.atoms_xyz[i, 2] *= -1\n",
    "    substrate_bottom.atoms_xyz[i, 2] += shift"
   ]
  },
  {
   "cell_type": "code",
   "execution_count": 52,
   "metadata": {},
   "outputs": [],
   "source": [
    "# Поднимаю верхнюю подложку\n",
    "shift = H + substrate_top.box[2]\n",
    "\n",
    "for i in range(substrate_top.atoms.shape[0]):\n",
    "    substrate_top.atoms_xyz[i, 2] += shift"
   ]
  },
  {
   "cell_type": "code",
   "execution_count": 30,
   "metadata": {},
   "outputs": [],
   "source": [
    "with open(f'trash.gro', 'w') as f:\n",
    "    f.write(write_gro(substrate_bottom))"
   ]
  },
  {
   "cell_type": "code",
   "execution_count": 53,
   "metadata": {},
   "outputs": [],
   "source": [
    "structure = Structure(\n",
    "    box=np.array([substrate_bottom.box[0], substrate_bottom.box[1], 2 * substrate_bottom.box[2] + H]),\n",
    "    atoms=np.zeros((2 * substrate_bottom.atoms.shape[0]), dtype=object),\n",
    "    atoms_xyz=np.zeros((2 * substrate_bottom.atoms.shape[0], 3))\n",
    ")"
   ]
  },
  {
   "cell_type": "code",
   "execution_count": 54,
   "metadata": {},
   "outputs": [],
   "source": [
    "id = 1\n",
    "\n",
    "for i, atom_label in np.ndenumerate(substrate_bottom.atoms):\n",
    "    structure.atoms[id-1] = atom_label.copy()\n",
    "    structure.atoms[id-1].id = id\n",
    "    structure.atoms_xyz[id-1, :] =  substrate_bottom.atoms_xyz[i, :]\n",
    "    id += 1\n",
    "\n",
    "for i, atom_label in np.ndenumerate(substrate_top.atoms):\n",
    "    structure.atoms[id-1] = atom_label.copy()\n",
    "    structure.atoms[id-1].id = id\n",
    "    structure.atoms_xyz[id-1, :] =  substrate_top.atoms_xyz[i, :]\n",
    "    id += 1"
   ]
  },
  {
   "cell_type": "code",
   "execution_count": 55,
   "metadata": {},
   "outputs": [],
   "source": [
    "# with open(f'cal_104_handmade/CaCO3_pore.gro', 'w') as f:\n",
    "#     f.write(write_gro(structure.apply_pbc(mask=np.array([1, 1, 0]))))\n",
    "\n",
    "with open(f'cal_104/cal_pore.gro', 'w') as f:\n",
    "    f.write(write_gro(structure.apply_pbc(mask=np.array([1, 1, 0]))))"
   ]
  },
  {
   "cell_type": "code",
   "execution_count": null,
   "metadata": {},
   "outputs": [],
   "source": []
  }
 ],
 "metadata": {
  "kernelspec": {
   "display_name": ".venv",
   "language": "python",
   "name": "python3"
  },
  "language_info": {
   "codemirror_mode": {
    "name": "ipython",
    "version": 3
   },
   "file_extension": ".py",
   "mimetype": "text/x-python",
   "name": "python",
   "nbconvert_exporter": "python",
   "pygments_lexer": "ipython3",
   "version": "3.9.6"
  },
  "orig_nbformat": 4
 },
 "nbformat": 4,
 "nbformat_minor": 2
}
