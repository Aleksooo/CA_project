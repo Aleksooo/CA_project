{
 "cells": [
  {
   "cell_type": "code",
   "execution_count": 2,
   "metadata": {},
   "outputs": [],
   "source": [
    "import numpy as np\n",
    "from src.utils_py.gro.Structure import Structure\n",
    "from src.utils_py.io.gro import write_gro, read_gro"
   ]
  },
  {
   "cell_type": "markdown",
   "metadata": {},
   "source": [
    "---"
   ]
  },
  {
   "cell_type": "code",
   "execution_count": 105,
   "metadata": {},
   "outputs": [],
   "source": [
    "structure_init = read_gro(f'cal_104_handmade/CaCO3_104_cell_unchanged.gro')\n",
    "structure_rotate = read_gro(f'cal_104_handmade/CaCO3_104_cell_unchanged_pbc.gro')"
   ]
  },
  {
   "cell_type": "code",
   "execution_count": 106,
   "metadata": {},
   "outputs": [],
   "source": [
    "# Это id молекул!!!!\n",
    "origin_id = 1\n",
    "a_id = 9\n",
    "b_id = 2\n",
    "c_id = 10"
   ]
  },
  {
   "cell_type": "code",
   "execution_count": 107,
   "metadata": {},
   "outputs": [],
   "source": [
    "origin = structure_init.atoms_xyz[origin_id-1, :].copy()\n",
    "a = structure_init.atoms_xyz[a_id-1, :] - origin\n",
    "b = structure_init.atoms_xyz[b_id-1, :] - origin\n",
    "c = structure_init.atoms_xyz[c_id-1, :] - origin"
   ]
  },
  {
   "cell_type": "code",
   "execution_count": 108,
   "metadata": {},
   "outputs": [],
   "source": [
    "psi = np.arctan(a[1] / a[0])\n",
    "theta = np.arctan(a[2] / np.sqrt(a[0]*a[0] + a[1]*a[1]))"
   ]
  },
  {
   "cell_type": "code",
   "execution_count": 109,
   "metadata": {},
   "outputs": [],
   "source": [
    "A_psi = np.array([\n",
    "    [ np.cos(psi), np.sin(psi), 0],\n",
    "    [-np.sin(psi), np.cos(psi), 0],\n",
    "    [0, 0, 1]\n",
    "])\n",
    "\n",
    "A_theta = np.array([\n",
    "    [np.cos(theta), 0, np.sin(theta)],\n",
    "    [0, 1, 0],\n",
    "    [-np.sin(theta), 0, np.cos(theta)]\n",
    "])\n",
    "\n",
    "A_T = (A_theta @ A_psi).T"
   ]
  },
  {
   "cell_type": "code",
   "execution_count": 110,
   "metadata": {},
   "outputs": [],
   "source": [
    "for i in range(structure_rotate.atoms.shape[0]):\n",
    "    structure_rotate.atoms_xyz[i, :] -= origin\n",
    "    structure_rotate.atoms_xyz[i, :] = structure_rotate.atoms_xyz[i, :] @ A_T"
   ]
  },
  {
   "cell_type": "code",
   "execution_count": 102,
   "metadata": {},
   "outputs": [],
   "source": [
    "# structure_rotate.box = np.array([1.21439,   0.49900,   1.21439])\n",
    "#    1.21439   0.49900   1.21429   0.00000   0.00000  -0.00000   0.00000   0.01586  -0.00000"
   ]
  },
  {
   "cell_type": "code",
   "execution_count": 111,
   "metadata": {},
   "outputs": [],
   "source": [
    "with open(f'cal_104_handmade/CaCO3_104_rotated_cell.gro', 'w') as f:\n",
    "    f.write(write_gro(structure_rotate))"
   ]
  },
  {
   "cell_type": "code",
   "execution_count": null,
   "metadata": {},
   "outputs": [],
   "source": []
  }
 ],
 "metadata": {
  "kernelspec": {
   "display_name": ".venv",
   "language": "python",
   "name": "python3"
  },
  "language_info": {
   "codemirror_mode": {
    "name": "ipython",
    "version": 3
   },
   "file_extension": ".py",
   "mimetype": "text/x-python",
   "name": "python",
   "nbconvert_exporter": "python",
   "pygments_lexer": "ipython3",
   "version": "3.9.6"
  },
  "orig_nbformat": 4
 },
 "nbformat": 4,
 "nbformat_minor": 2
}
