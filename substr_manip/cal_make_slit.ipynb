{
 "cells": [
  {
   "cell_type": "code",
   "execution_count": 3,
   "metadata": {},
   "outputs": [],
   "source": [
    "import numpy as np\n",
    "from src.utils_py.gro.Structure import Structure\n",
    "from src.utils_py.io.gro import write_gro, read_gro"
   ]
  },
  {
   "cell_type": "markdown",
   "metadata": {},
   "source": [
    "---"
   ]
  },
  {
   "cell_type": "markdown",
   "metadata": {},
   "source": [
    "# Файл нужен для того, чтобы сделать щель с двумя отзеркаленными подложками"
   ]
  },
  {
   "cell_type": "code",
   "execution_count": 24,
   "metadata": {},
   "outputs": [],
   "source": [
    "# file = '2x1_final.gro'\n",
    "# file = 'cal_substrate_10x6x2.gro'\n",
    "file = 'cal_substrate_5x12x2.gro'"
   ]
  },
  {
   "cell_type": "code",
   "execution_count": 25,
   "metadata": {},
   "outputs": [],
   "source": [
    "structure = read_gro(f'cal_104/{file}')"
   ]
  },
  {
   "cell_type": "code",
   "execution_count": 6,
   "metadata": {},
   "outputs": [
    {
     "data": {
      "text/plain": [
       "38400"
      ]
     },
     "execution_count": 6,
     "metadata": {},
     "output_type": "execute_result"
    }
   ],
   "source": [
    "structure.atoms.shape[0]"
   ]
  },
  {
   "cell_type": "code",
   "execution_count": 26,
   "metadata": {},
   "outputs": [],
   "source": [
    "new_strucute = Structure(\n",
    "    box = structure.box,\n",
    "    atoms = np.zeros(2 * structure.atoms.shape[0], dtype=object),\n",
    "    atoms_xyz= np.zeros((2 * structure.atoms_xyz.shape[0], 3))\n",
    ")"
   ]
  },
  {
   "cell_type": "code",
   "execution_count": 27,
   "metadata": {},
   "outputs": [],
   "source": [
    "z_1 = 0.089 # z of first Ca layer\n",
    "z_2 = 0.396 # z of second Ca layer\n",
    "dz_offset = z_2 - 3 * z_1"
   ]
  },
  {
   "cell_type": "code",
   "execution_count": 28,
   "metadata": {},
   "outputs": [],
   "source": [
    "id = 1\n",
    "# Добавление основной подложки\n",
    "for i, atom_label in np.ndenumerate(structure.atoms):\n",
    "    new_atom_label = atom_label.copy()\n",
    "    new_atom_label.id = id\n",
    "    new_strucute.add_atom(new_atom_label, structure.atoms_xyz[i[0], :].copy(), id-1)\n",
    "    id += 1\n",
    "\n",
    "# Добавление зеркальной подложки\n",
    "for i, atom_label in np.ndenumerate(structure.atoms):\n",
    "    new_atom_label = atom_label.copy()\n",
    "    new_atom_label.id = id\n",
    "\n",
    "    new_xyz = structure.atoms_xyz[i[0], :].copy()\n",
    "    new_xyz[2] *= -1\n",
    "    new_xyz[2] -= dz_offset\n",
    "    new_strucute.add_atom(new_atom_label, new_xyz, id-1)\n",
    "    id += 1"
   ]
  },
  {
   "cell_type": "code",
   "execution_count": 29,
   "metadata": {},
   "outputs": [],
   "source": [
    "z_min = np.min(new_strucute.atoms_xyz[:, 2])"
   ]
  },
  {
   "cell_type": "code",
   "execution_count": 30,
   "metadata": {},
   "outputs": [],
   "source": [
    "# Поднятие подложки\n",
    "for i, atom_label in np.ndenumerate(new_strucute.atoms):\n",
    "    new_strucute.atoms_xyz[i, 2] -= z_min"
   ]
  },
  {
   "cell_type": "code",
   "execution_count": 31,
   "metadata": {},
   "outputs": [],
   "source": [
    "z_max = np.max(new_strucute.atoms_xyz[:, 2])"
   ]
  },
  {
   "cell_type": "code",
   "execution_count": 32,
   "metadata": {},
   "outputs": [],
   "source": [
    "new_strucute.box[2] = z_max"
   ]
  },
  {
   "cell_type": "code",
   "execution_count": 33,
   "metadata": {},
   "outputs": [],
   "source": [
    "with open(f'cal_104/cal_5x12x2.gro', 'w') as f:\n",
    "    f.write(write_gro(new_strucute))"
   ]
  },
  {
   "cell_type": "code",
   "execution_count": null,
   "metadata": {},
   "outputs": [],
   "source": []
  }
 ],
 "metadata": {
  "kernelspec": {
   "display_name": ".venv",
   "language": "python",
   "name": "python3"
  },
  "language_info": {
   "codemirror_mode": {
    "name": "ipython",
    "version": 3
   },
   "file_extension": ".py",
   "mimetype": "text/x-python",
   "name": "python",
   "nbconvert_exporter": "python",
   "pygments_lexer": "ipython3",
   "version": "3.9.6"
  },
  "orig_nbformat": 4
 },
 "nbformat": 4,
 "nbformat_minor": 2
}
