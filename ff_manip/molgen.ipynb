{
 "cells": [
  {
   "cell_type": "markdown",
   "metadata": {},
   "source": [
    "# Generate template of .itp file"
   ]
  },
  {
   "cell_type": "markdown",
   "metadata": {},
   "source": [
    "---"
   ]
  },
  {
   "cell_type": "markdown",
   "metadata": {},
   "source": [
    "### Number of molecules"
   ]
  },
  {
   "cell_type": "code",
   "execution_count": 1,
   "metadata": {},
   "outputs": [],
   "source": [
    "N = 12"
   ]
  },
  {
   "cell_type": "markdown",
   "metadata": {},
   "source": [
    "### Bonds"
   ]
  },
  {
   "cell_type": "code",
   "execution_count": 4,
   "metadata": {},
   "outputs": [
    {
     "name": "stdout",
     "output_type": "stream",
     "text": [
      ";   i    j func\n",
      "    1    2    1\n",
      "    2    3    1\n",
      "    3    4    1\n",
      "    4    5    1\n",
      "    5    6    1\n",
      "    6    7    1\n",
      "    7    8    1\n",
      "    8    9    1\n",
      "    9   10    1\n",
      "   10   11    1\n",
      "   11   12    1\n"
     ]
    }
   ],
   "source": [
    "print('{}{:>4}{:>5}{:>5}'.format(';', 'i', 'j', 'func'))\n",
    "for i in range(N-1):\n",
    "    print('{:>5}{:>5}{:>5}'.format(i%N+1, (i+1)%N+1, 1))"
   ]
  },
  {
   "cell_type": "markdown",
   "metadata": {},
   "source": [
    "### Constraints"
   ]
  },
  {
   "cell_type": "code",
   "execution_count": 12,
   "metadata": {},
   "outputs": [
    {
     "name": "stdout",
     "output_type": "stream",
     "text": [
      ";   i    j func\n",
      "    1    2    1\n",
      "    2    3    1\n",
      "    3    4    1\n",
      "    4    5    1\n",
      "    5    6    1\n",
      "    6    7    1\n",
      "    7    8    1\n",
      "    8    9    1\n",
      "    9   10    1\n",
      "   10   11    1\n",
      "   11   12    1\n"
     ]
    }
   ],
   "source": [
    "print('{}{:>4}{:>5}{:>5}'.format(';', 'i', 'j', 'func'))\n",
    "for i in range(N-1):\n",
    "    print('{:>5}{:>5}{:>5}'.format(i%N+1, (i+1)%N+1, 1))"
   ]
  },
  {
   "cell_type": "markdown",
   "metadata": {},
   "source": [
    "### Angles"
   ]
  },
  {
   "cell_type": "code",
   "execution_count": 10,
   "metadata": {},
   "outputs": [
    {
     "name": "stdout",
     "output_type": "stream",
     "text": [
      ";   i    j    k func\n",
      "    1    2    3    1\n",
      "    2    3    4    1\n",
      "    3    4    5    1\n",
      "    4    5    6    1\n",
      "    5    6    7    1\n",
      "    6    7    8    1\n",
      "    7    8    9    1\n",
      "    8    9   10    1\n",
      "    9   10   11    1\n",
      "   10   11   12    1\n"
     ]
    }
   ],
   "source": [
    "print('{}{:>4}{:>5}{:>5}{:>5}'.format(';', 'i', 'j', 'k', 'func'))\n",
    "for i in range(N-2):\n",
    "    print('{:>5}{:>5}{:>5}{:>5}'.format(i%N+1, (i+1)%N+1, (i+2)%N+1, 1))"
   ]
  },
  {
   "cell_type": "markdown",
   "metadata": {},
   "source": [
    "### Dihedrals"
   ]
  },
  {
   "cell_type": "code",
   "execution_count": 11,
   "metadata": {},
   "outputs": [
    {
     "name": "stdout",
     "output_type": "stream",
     "text": [
      ";   i    j    k    l func\n",
      "    1    2    3    4    3\n",
      "    2    3    4    5    3\n",
      "    3    4    5    6    3\n",
      "    4    5    6    7    3\n",
      "    5    6    7    8    3\n",
      "    6    7    8    9    3\n",
      "    7    8    9   10    3\n",
      "    8    9   10   11    3\n",
      "    9   10   11   12    3\n"
     ]
    }
   ],
   "source": [
    "print('{}{:>4}{:>5}{:>5}{:>5}{:>5}'.format(';', 'i', 'j', 'k', 'l', 'func'))\n",
    "for i in range(N-3):\n",
    "    print('{:>5}{:>5}{:>5}{:>5}{:>5}'.format(i%N+1, (i+1)%N+1, (i+2)%N+1, (i+3)%N+1, 3))"
   ]
  },
  {
   "cell_type": "code",
   "execution_count": null,
   "metadata": {},
   "outputs": [],
   "source": []
  }
 ],
 "metadata": {
  "kernelspec": {
   "display_name": ".venv",
   "language": "python",
   "name": "python3"
  },
  "language_info": {
   "codemirror_mode": {
    "name": "ipython",
    "version": 3
   },
   "file_extension": ".py",
   "mimetype": "text/x-python",
   "name": "python",
   "nbconvert_exporter": "python",
   "pygments_lexer": "ipython3",
   "version": "3.9.6"
  },
  "orig_nbformat": 4
 },
 "nbformat": 4,
 "nbformat_minor": 2
}
