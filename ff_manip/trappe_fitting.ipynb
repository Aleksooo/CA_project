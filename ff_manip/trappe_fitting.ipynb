{
 "cells": [
  {
   "cell_type": "code",
   "execution_count": 4,
   "metadata": {},
   "outputs": [],
   "source": [
    "import numpy as np"
   ]
  },
  {
   "cell_type": "markdown",
   "metadata": {},
   "source": [
    "---"
   ]
  },
  {
   "cell_type": "markdown",
   "metadata": {},
   "source": [
    "## Подгон кальцита"
   ]
  },
  {
   "cell_type": "code",
   "execution_count": 11,
   "metadata": {},
   "outputs": [
    {
     "name": "stdout",
     "output_type": "stream",
     "text": [
      "; calcit scale: 1\n",
      "  CH2   CA  1\t3.160300e-01\t8.746902e-01\n",
      "  CH2  CCA  1\t3.886650e-01\t3.756518e-01\n",
      "  CH2  OCA  1\t3.520450e-01\t4.718196e-01\n",
      "  CH3   CA  1\t3.060300e-01\t1.276699e+00\n",
      "  CH3  CCA  1\t3.786650e-01\t5.483018e-01\n",
      "  CH3  OCA  1\t3.420450e-01\t6.886685e-01\n"
     ]
    }
   ],
   "source": [
    "decane_mols = ['CH2', 'CH3']\n",
    "# sigma epsilon\n",
    "decane_LJ = [\n",
    "    [3.95000e-01, 3.82465e-01],\n",
    "    [3.75000e-01, 8.14817e-01]\n",
    "]\n",
    "\n",
    "cal_mols = ['CA', 'CCA', 'OCA']\n",
    "cal_LJ = [\n",
    "    [2.3706e-01,  2.0004e+00],\n",
    "    [3.8233e-01,  3.6896e-01],\n",
    "    [3.0909e-01,  5.8205e-01]\n",
    "]\n",
    "\n",
    "\n",
    "scale = 1\n",
    "print('; calcit scale:', scale)\n",
    "\n",
    "for id, dm in enumerate(decane_mols):\n",
    "    for ic, cm in enumerate(cal_mols):\n",
    "        sigma = (decane_LJ[id][0] + cal_LJ[ic][0]) / 2\n",
    "        eps = scale * np.sqrt(decane_LJ[id][1] * cal_LJ[ic][1])\n",
    "        print('{:>5}{:>5}{:>3}\\t{:e}\\t{:e}'.format(dm, cm, 1, sigma, eps))\n"
   ]
  },
  {
   "cell_type": "markdown",
   "metadata": {},
   "source": [
    "---"
   ]
  },
  {
   "cell_type": "markdown",
   "metadata": {},
   "source": [
    "## Подгон мусковита"
   ]
  },
  {
   "cell_type": "code",
   "execution_count": 7,
   "metadata": {},
   "outputs": [
    {
     "name": "stdout",
     "output_type": "stream",
     "text": [
      "; muscovite scale: 4\n",
      "  CH2   ho  1\t1.975000e-01\t0.000000e+00\n",
      "  CH2   oh  1\t3.751500e-01\t9.972006e-01\n",
      "  CH2   ob  1\t3.751500e-01\t9.972006e-01\n",
      "  CH2 obts  1\t3.751500e-01\t9.972006e-01\n",
      "  CH2   st  1\t3.828000e-01\t3.432189e-03\n",
      "  CH2   ao  1\t4.372000e-01\t2.917557e-03\n",
      "  CH2   at  1\t3.828000e-01\t3.432189e-03\n",
      "  CH2    K  1\t3.846000e-01\t8.000584e-01\n",
      "  CH2   NA  1\t3.294000e-01\t9.126093e-01\n",
      "  CH3   ho  1\t1.875000e-01\t0.000000e+00\n",
      "  CH3   oh  1\t3.651500e-01\t1.455515e+00\n",
      "  CH3   ob  1\t3.651500e-01\t1.455515e+00\n",
      "  CH3 obts  1\t3.651500e-01\t1.455515e+00\n",
      "  CH3   st  1\t3.728000e-01\t5.009627e-03\n",
      "  CH3   ao  1\t4.272000e-01\t4.258470e-03\n",
      "  CH3   at  1\t3.728000e-01\t5.009627e-03\n",
      "  CH3    K  1\t3.746000e-01\t1.167766e+00\n",
      "  CH3   NA  1\t3.194000e-01\t1.332046e+00\n"
     ]
    }
   ],
   "source": [
    "decane_mols = ['CH2', 'CH3']\n",
    "# sigma epsilon\n",
    "decane_LJ = [\n",
    "    [3.95000e-01, 3.82465e-01],\n",
    "    [3.75000e-01, 8.14817e-01]\n",
    "]\n",
    "\n",
    "musc_mols = ['ho', 'oh', 'ob', 'obts', 'st', 'ao', 'at', 'K', 'NA']\n",
    "musc_LJ = [\n",
    "    [0.000e+00, 0.000e+00],\n",
    "    [3.553e-01, 1.625e-01],\n",
    "    [3.553e-01, 1.625e-01],\n",
    "    [3.553e-01, 1.625e-01],\n",
    "    [3.706e-01, 1.925e-06],\n",
    "    [4.794e-01, 1.391e-06],\n",
    "    [3.706e-01, 1.925e-06],\n",
    "    [3.742e-01, 1.046e-01],\n",
    "    [2.638e-01, 1.361e-01]\n",
    "]\n",
    "\n",
    "\n",
    "scale = 4\n",
    "print('; muscovite scale:', scale)\n",
    "\n",
    "for id, dm in enumerate(decane_mols):\n",
    "    for ic, cm in enumerate(musc_mols):\n",
    "        sigma = (decane_LJ[id][0] + musc_LJ[ic][0]) / 2\n",
    "        eps = scale * np.sqrt(decane_LJ[id][1] * musc_LJ[ic][1])\n",
    "        print('{:>5}{:>5}{:>3}\\t{:e}\\t{:e}'.format(dm, cm, 1, sigma, eps))\n"
   ]
  },
  {
   "cell_type": "markdown",
   "metadata": {},
   "source": [
    "---"
   ]
  },
  {
   "cell_type": "markdown",
   "metadata": {},
   "source": [
    "## Рассчет коэффициентов по геометрическому правилу для кальцита"
   ]
  },
  {
   "cell_type": "code",
   "execution_count": 14,
   "metadata": {},
   "outputs": [
    {
     "name": "stdout",
     "output_type": "stream",
     "text": [
      "; calcit - decane\n",
      "  CH2   CA  1\t4.207569e-02\t8.243397e-03\n",
      "  CH2  CCA  1\t5.343445e-02\t3.540278e-03\n",
      "  CH2  OCA  1\t4.804461e-02\t4.446599e-03\n",
      "  CH3   CA  1\t4.773987e-02\t7.301415e-03\n",
      "  CH3  CCA  1\t6.062772e-02\t3.135727e-03\n",
      "  CH3  OCA  1\t5.451230e-02\t3.938481e-03\n"
     ]
    }
   ],
   "source": [
    "decane_mols = ['CH2', 'CH3']\n",
    "# sigma epsilon\n",
    "# decane_LJ = [\n",
    "#     [3.95000e-01, 3.82465e-01],\n",
    "#     [3.75000e-01, 8.14817e-01]\n",
    "# ]\n",
    "decane_LJ = [\n",
    "    [7.468e-03,  3.397e-05],\n",
    "    [9.614e-03,  2.665e-05]\n",
    "]\n",
    "\n",
    "cal_mols = ['CA', 'CCA', 'OCA']\n",
    "cal_LJ = [\n",
    "    [2.3706e-01,  2.0004e+00],\n",
    "    [3.8233e-01,  3.6896e-01],\n",
    "    [3.0909e-01,  5.8205e-01]\n",
    "]\n",
    "\n",
    "print('; calcit - decane')\n",
    "for id, dm in enumerate(decane_mols):\n",
    "    for ic, cm in enumerate(cal_mols):\n",
    "        sigma = np.sqrt(decane_LJ[id][0] * cal_LJ[ic][0])\n",
    "        eps = np.sqrt(decane_LJ[id][1] * cal_LJ[ic][1])\n",
    "        print('{:>5}{:>5}{:>3}\\t{:e}\\t{:e}'.format(dm, cm, 1, sigma, eps))"
   ]
  },
  {
   "cell_type": "markdown",
   "metadata": {},
   "source": [
    "## Рассчет коэффициентов по геометрическому правилу для мусковита"
   ]
  },
  {
   "cell_type": "code",
   "execution_count": 13,
   "metadata": {},
   "outputs": [
    {
     "name": "stdout",
     "output_type": "stream",
     "text": [
      "; muscovite - decane\n",
      "  CH2   ho  1\t0.000000e+00\t0.000000e+00\n",
      "  CH2   oh  1\t3.746245e-01\t2.493001e-01\n",
      "  CH2   ob  1\t3.746245e-01\t2.493001e-01\n",
      "  CH2 obts  1\t3.746245e-01\t2.493001e-01\n",
      "  CH2   st  1\t3.826055e-01\t8.580473e-04\n",
      "  CH2   ao  1\t4.351586e-01\t7.293893e-04\n",
      "  CH2   at  1\t3.826055e-01\t8.580473e-04\n",
      "  CH2    K  1\t3.844594e-01\t2.000146e-01\n",
      "  CH2   NA  1\t3.228018e-01\t2.281523e-01\n",
      "  CH3   ho  1\t0.000000e+00\t0.000000e+00\n",
      "  CH3   oh  1\t3.650171e-01\t3.638788e-01\n",
      "  CH3   ob  1\t3.650171e-01\t3.638788e-01\n",
      "  CH3 obts  1\t3.650171e-01\t3.638788e-01\n",
      "  CH3   st  1\t3.727935e-01\t1.252407e-03\n",
      "  CH3   ao  1\t4.239988e-01\t1.064618e-03\n",
      "  CH3   at  1\t3.727935e-01\t1.252407e-03\n",
      "  CH3    K  1\t3.745998e-01\t2.919415e-01\n",
      "  CH3   NA  1\t3.145234e-01\t3.330114e-01\n"
     ]
    }
   ],
   "source": [
    "decane_mols = ['CH2', 'CH3']\n",
    "# sigma epsilon\n",
    "decane_LJ = [\n",
    "    [3.95000e-01, 3.82465e-01],\n",
    "    [3.75000e-01, 8.14817e-01]\n",
    "]\n",
    "\n",
    "musc_mols = ['ho', 'oh', 'ob', 'obts', 'st', 'ao', 'at', 'K', 'NA']\n",
    "musc_LJ = [\n",
    "    [0.000e+00, 0.000e+00],\n",
    "    [3.553e-01, 1.625e-01],\n",
    "    [3.553e-01, 1.625e-01],\n",
    "    [3.553e-01, 1.625e-01],\n",
    "    [3.706e-01, 1.925e-06],\n",
    "    [4.794e-01, 1.391e-06],\n",
    "    [3.706e-01, 1.925e-06],\n",
    "    [3.742e-01, 1.046e-01],\n",
    "    [2.638e-01, 1.361e-01]\n",
    "]\n",
    "\n",
    "print('; muscovite - decane')\n",
    "for id, dm in enumerate(decane_mols):\n",
    "    for ic, cm in enumerate(musc_mols):\n",
    "        sigma = np.sqrt(decane_LJ[id][0] * musc_LJ[ic][0])\n",
    "        eps = np.sqrt(decane_LJ[id][1] * musc_LJ[ic][1])\n",
    "        print('{:>5}{:>5}{:>3}\\t{:e}\\t{:e}'.format(dm, cm, 1, sigma, eps))"
   ]
  },
  {
   "cell_type": "code",
   "execution_count": null,
   "metadata": {},
   "outputs": [],
   "source": []
  }
 ],
 "metadata": {
  "kernelspec": {
   "display_name": ".venv",
   "language": "python",
   "name": "python3"
  },
  "language_info": {
   "codemirror_mode": {
    "name": "ipython",
    "version": 3
   },
   "file_extension": ".py",
   "mimetype": "text/x-python",
   "name": "python",
   "nbconvert_exporter": "python",
   "pygments_lexer": "ipython3",
   "version": "3.9.6"
  },
  "orig_nbformat": 4
 },
 "nbformat": 4,
 "nbformat_minor": 2
}
