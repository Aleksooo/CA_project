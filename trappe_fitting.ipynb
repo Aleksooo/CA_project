{
 "cells": [
  {
   "cell_type": "code",
   "execution_count": 1,
   "metadata": {},
   "outputs": [],
   "source": [
    "import numpy as np"
   ]
  },
  {
   "cell_type": "markdown",
   "metadata": {},
   "source": [
    "---"
   ]
  },
  {
   "cell_type": "code",
   "execution_count": 4,
   "metadata": {},
   "outputs": [
    {
     "name": "stdout",
     "output_type": "stream",
     "text": [
      "; calcit scale: 0.5\n",
      "  CH2   CA  1\t3.160300e-01\t4.373451e-01\n",
      "  CH2  CCA  1\t3.886650e-01\t1.878259e-01\n",
      "  CH2  OCA  1\t3.520450e-01\t2.359098e-01\n",
      "  CH3   CA  1\t3.060300e-01\t6.383494e-01\n",
      "  CH3  CCA  1\t3.786650e-01\t2.741509e-01\n",
      "  CH3  OCA  1\t3.420450e-01\t3.443342e-01\n"
     ]
    }
   ],
   "source": [
    "decane_mols = ['CH2', 'CH3']\n",
    "# sigma epsilon\n",
    "decane_LJ = [\n",
    "    [3.95000e-01, 3.82465e-01],\n",
    "    [3.75000e-01, 8.14817e-01]\n",
    "]\n",
    "\n",
    "cal_mols = ['CA', 'CCA', 'OCA']\n",
    "cal_LJ = [\n",
    "    [2.3706e-01,  2.0004e+00],\n",
    "    [3.8233e-01,  3.6896e-01],\n",
    "    [3.0909e-01,  5.8205e-01]\n",
    "]\n",
    "\n",
    "\n",
    "scale = 0.5\n",
    "print('; calcit scale:', scale)\n",
    "\n",
    "for id, dm in enumerate(decane_mols):\n",
    "    for ic, cm in enumerate(cal_mols):\n",
    "        sigma = (decane_LJ[id][0] + cal_LJ[ic][0]) / 2\n",
    "        eps = scale * np.sqrt(decane_LJ[id][1] * cal_LJ[ic][1])\n",
    "        print('{:>5}{:>5}{:>3}\\t{:e}\\t{:e}'.format(dm, cm, 1, sigma, eps))\n"
   ]
  },
  {
   "cell_type": "code",
   "execution_count": null,
   "metadata": {},
   "outputs": [],
   "source": []
  }
 ],
 "metadata": {
  "kernelspec": {
   "display_name": ".venv",
   "language": "python",
   "name": "python3"
  },
  "language_info": {
   "codemirror_mode": {
    "name": "ipython",
    "version": 3
   },
   "file_extension": ".py",
   "mimetype": "text/x-python",
   "name": "python",
   "nbconvert_exporter": "python",
   "pygments_lexer": "ipython3",
   "version": "3.9.6"
  },
  "orig_nbformat": 4
 },
 "nbformat": 4,
 "nbformat_minor": 2
}
