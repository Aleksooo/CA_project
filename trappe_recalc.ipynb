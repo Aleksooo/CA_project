{
 "cells": [
  {
   "cell_type": "code",
   "execution_count": 1,
   "metadata": {},
   "outputs": [],
   "source": [
    "import numpy as np"
   ]
  },
  {
   "cell_type": "markdown",
   "metadata": {},
   "source": [
    "---"
   ]
  },
  {
   "cell_type": "markdown",
   "metadata": {},
   "source": [
    "# Пересчет LJ параметров к нужным"
   ]
  },
  {
   "cell_type": "markdown",
   "metadata": {},
   "source": [
    "Коэффициенты из статьи (https://doi.org/10.1021/acs.energyfuels.7b02451)"
   ]
  },
  {
   "cell_type": "code",
   "execution_count": 2,
   "metadata": {},
   "outputs": [],
   "source": [
    "# C12 C6\n",
    "Ca = np.array([2.52e-7, 1.42e-3])\n",
    "C  = np.array([1.44e-5, 4.61e-3])\n",
    "O  = np.array([1.77e-6, 2.03e-3])"
   ]
  },
  {
   "cell_type": "code",
   "execution_count": 10,
   "metadata": {},
   "outputs": [
    {
     "name": "stdout",
     "output_type": "stream",
     "text": [
      "   CA     40.0780    0.000  A  2.3706e-01  2.0004e+00\n",
      "  CCA     12.0110    0.000  A  3.8233e-01  3.6896e-01\n",
      "  OCA     15.9994    0.000  A  3.0909e-01  5.8205e-01\n"
     ]
    }
   ],
   "source": [
    "names = ['CA', 'CCA', 'OCA']\n",
    "masses = [40.078, 12.011, 15.9994]\n",
    "coef = np.array([Ca, C, O])\n",
    "\n",
    "for i, name in enumerate(names):\n",
    "    sigma = np.power(coef[i, 0] / coef[i, 1], 1/6)\n",
    "    epsilon = coef[i, 1] * coef[i, 1] / coef[i, 0] / 4\n",
    "    print('{:>5}{:>12.4f}{:>9.3f}{:>3}{:>12.4e}{:>12.4e}'.format(name, masses[i], 0, 'A', sigma, epsilon))"
   ]
  },
  {
   "cell_type": "code",
   "execution_count": null,
   "metadata": {},
   "outputs": [],
   "source": []
  }
 ],
 "metadata": {
  "kernelspec": {
   "display_name": ".venv",
   "language": "python",
   "name": "python3"
  },
  "language_info": {
   "codemirror_mode": {
    "name": "ipython",
    "version": 3
   },
   "file_extension": ".py",
   "mimetype": "text/x-python",
   "name": "python",
   "nbconvert_exporter": "python",
   "pygments_lexer": "ipython3",
   "version": "3.9.6"
  },
  "orig_nbformat": 4
 },
 "nbformat": 4,
 "nbformat_minor": 2
}
