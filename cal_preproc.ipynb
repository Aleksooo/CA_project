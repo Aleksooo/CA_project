{
 "cells": [
  {
   "cell_type": "code",
   "execution_count": 20,
   "metadata": {},
   "outputs": [],
   "source": [
    "import numpy as np\n",
    "from src.utils_py.gro.Structure import Structure\n",
    "from src.utils_py.io.gro import write_gro, read_gro"
   ]
  },
  {
   "cell_type": "markdown",
   "metadata": {},
   "source": [
    "---"
   ]
  },
  {
   "cell_type": "markdown",
   "metadata": {},
   "source": [
    "# Файл нужен для первичной предобработки подложки"
   ]
  },
  {
   "cell_type": "markdown",
   "metadata": {},
   "source": [
    "Структура взята с https://pubs.rsc.org/en/content/articlelanding/2023/cp/d3cp01408h#!divAbstract"
   ]
  },
  {
   "cell_type": "code",
   "execution_count": 23,
   "metadata": {},
   "outputs": [],
   "source": [
    "# file = '2x1_final.gro'\n",
    "file = 'full.gro'"
   ]
  },
  {
   "cell_type": "code",
   "execution_count": 28,
   "metadata": {},
   "outputs": [],
   "source": [
    "structure = read_gro(f'cal_104/{file}')"
   ]
  },
  {
   "cell_type": "code",
   "execution_count": 29,
   "metadata": {},
   "outputs": [],
   "source": [
    "# Переименовка атомов и запись mol_id и id\n",
    "for i, atom_label in np.ndenumerate(structure.atoms):\n",
    "    atom_label.mol_id = 1\n",
    "    atom_label.id = i[0] + 1\n",
    "\n",
    "    if atom_label.name[0:2] == 'Ca':\n",
    "        atom_label.name = 'CA'\n",
    "        atom_label.mol_name = 'CAA'\n",
    "    elif atom_label.name[0] == 'C':\n",
    "        atom_label.name = 'CCA'\n",
    "        atom_label.mol_name = 'CCAA'\n",
    "    elif atom_label.name[0] == 'O':\n",
    "        atom_label.name = 'OCA'\n",
    "        atom_label.mol_name = 'OCAA'"
   ]
  },
  {
   "cell_type": "code",
   "execution_count": 30,
   "metadata": {},
   "outputs": [],
   "source": [
    "# Изменение размеров бокса\n",
    "structure.box[0] = 2.000474\n",
    "structure.box[1] = 1.606287\n",
    "\n",
    "z_1 = 0.089 # z of first Ca layer\n",
    "z_2 = 0.396 # z of second Ca layer\n",
    "z_max = 1.010 # z of the top Ca layer\n",
    "dz = z_2 - z_1\n",
    "structure.box[2] = z_max + (dz - z_1)"
   ]
  },
  {
   "cell_type": "code",
   "execution_count": 31,
   "metadata": {},
   "outputs": [],
   "source": [
    "# Запись исправленной структуры в unitcell\n",
    "with open('cal_104/cal_unitcell.gro', 'w') as f:\n",
    "    f.write(write_gro(structure.apply_pbc()))"
   ]
  },
  {
   "cell_type": "code",
   "execution_count": 33,
   "metadata": {},
   "outputs": [
    {
     "data": {
      "text/plain": [
       "1.0"
      ]
     },
     "execution_count": 33,
     "metadata": {},
     "output_type": "execute_result"
    }
   ],
   "source": [
    "round(0.99999, 1)"
   ]
  },
  {
   "cell_type": "code",
   "execution_count": null,
   "metadata": {},
   "outputs": [],
   "source": []
  }
 ],
 "metadata": {
  "kernelspec": {
   "display_name": ".venv",
   "language": "python",
   "name": "python3"
  },
  "language_info": {
   "codemirror_mode": {
    "name": "ipython",
    "version": 3
   },
   "file_extension": ".py",
   "mimetype": "text/x-python",
   "name": "python",
   "nbconvert_exporter": "python",
   "pygments_lexer": "ipython3",
   "version": "3.9.6"
  },
  "orig_nbformat": 4
 },
 "nbformat": 4,
 "nbformat_minor": 2
}
